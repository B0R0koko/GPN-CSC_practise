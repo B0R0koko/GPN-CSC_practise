{
 "cells": [
  {
   "cell_type": "markdown",
   "id": "0f3e56df",
   "metadata": {},
   "source": [
    "## Случайный лес"
   ]
  },
  {
   "cell_type": "code",
   "execution_count": 1,
   "id": "c4195e2f",
   "metadata": {},
   "outputs": [],
   "source": [
    "from sklearn.datasets import load_wine\n",
    "from math import sqrt\n",
    "import matplotlib.pyplot as plt\n",
    "import pandas as pd\n",
    "import numpy as np\n",
    "import seaborn as sn\n",
    "\n",
    "plt.style.use('seaborn')"
   ]
  },
  {
   "cell_type": "code",
   "execution_count": 2,
   "id": "f8acaf81",
   "metadata": {
    "scrolled": true
   },
   "outputs": [
    {
     "data": {
      "text/html": [
       "<div>\n",
       "<style scoped>\n",
       "    .dataframe tbody tr th:only-of-type {\n",
       "        vertical-align: middle;\n",
       "    }\n",
       "\n",
       "    .dataframe tbody tr th {\n",
       "        vertical-align: top;\n",
       "    }\n",
       "\n",
       "    .dataframe thead th {\n",
       "        text-align: right;\n",
       "    }\n",
       "</style>\n",
       "<table border=\"1\" class=\"dataframe\">\n",
       "  <thead>\n",
       "    <tr style=\"text-align: right;\">\n",
       "      <th></th>\n",
       "      <th>alcohol</th>\n",
       "      <th>malic_acid</th>\n",
       "      <th>ash</th>\n",
       "      <th>alcalinity_of_ash</th>\n",
       "      <th>magnesium</th>\n",
       "      <th>total_phenols</th>\n",
       "      <th>flavanoids</th>\n",
       "      <th>nonflavanoid_phenols</th>\n",
       "      <th>proanthocyanins</th>\n",
       "      <th>color_intensity</th>\n",
       "      <th>hue</th>\n",
       "      <th>od280/od315_of_diluted_wines</th>\n",
       "      <th>proline</th>\n",
       "      <th>target</th>\n",
       "    </tr>\n",
       "  </thead>\n",
       "  <tbody>\n",
       "    <tr>\n",
       "      <th>0</th>\n",
       "      <td>14.23</td>\n",
       "      <td>1.71</td>\n",
       "      <td>2.43</td>\n",
       "      <td>15.6</td>\n",
       "      <td>127.0</td>\n",
       "      <td>2.80</td>\n",
       "      <td>3.06</td>\n",
       "      <td>0.28</td>\n",
       "      <td>2.29</td>\n",
       "      <td>5.64</td>\n",
       "      <td>1.04</td>\n",
       "      <td>3.92</td>\n",
       "      <td>1065.0</td>\n",
       "      <td>0</td>\n",
       "    </tr>\n",
       "    <tr>\n",
       "      <th>1</th>\n",
       "      <td>13.20</td>\n",
       "      <td>1.78</td>\n",
       "      <td>2.14</td>\n",
       "      <td>11.2</td>\n",
       "      <td>100.0</td>\n",
       "      <td>2.65</td>\n",
       "      <td>2.76</td>\n",
       "      <td>0.26</td>\n",
       "      <td>1.28</td>\n",
       "      <td>4.38</td>\n",
       "      <td>1.05</td>\n",
       "      <td>3.40</td>\n",
       "      <td>1050.0</td>\n",
       "      <td>0</td>\n",
       "    </tr>\n",
       "    <tr>\n",
       "      <th>2</th>\n",
       "      <td>13.16</td>\n",
       "      <td>2.36</td>\n",
       "      <td>2.67</td>\n",
       "      <td>18.6</td>\n",
       "      <td>101.0</td>\n",
       "      <td>2.80</td>\n",
       "      <td>3.24</td>\n",
       "      <td>0.30</td>\n",
       "      <td>2.81</td>\n",
       "      <td>5.68</td>\n",
       "      <td>1.03</td>\n",
       "      <td>3.17</td>\n",
       "      <td>1185.0</td>\n",
       "      <td>0</td>\n",
       "    </tr>\n",
       "    <tr>\n",
       "      <th>3</th>\n",
       "      <td>14.37</td>\n",
       "      <td>1.95</td>\n",
       "      <td>2.50</td>\n",
       "      <td>16.8</td>\n",
       "      <td>113.0</td>\n",
       "      <td>3.85</td>\n",
       "      <td>3.49</td>\n",
       "      <td>0.24</td>\n",
       "      <td>2.18</td>\n",
       "      <td>7.80</td>\n",
       "      <td>0.86</td>\n",
       "      <td>3.45</td>\n",
       "      <td>1480.0</td>\n",
       "      <td>0</td>\n",
       "    </tr>\n",
       "    <tr>\n",
       "      <th>4</th>\n",
       "      <td>13.24</td>\n",
       "      <td>2.59</td>\n",
       "      <td>2.87</td>\n",
       "      <td>21.0</td>\n",
       "      <td>118.0</td>\n",
       "      <td>2.80</td>\n",
       "      <td>2.69</td>\n",
       "      <td>0.39</td>\n",
       "      <td>1.82</td>\n",
       "      <td>4.32</td>\n",
       "      <td>1.04</td>\n",
       "      <td>2.93</td>\n",
       "      <td>735.0</td>\n",
       "      <td>0</td>\n",
       "    </tr>\n",
       "  </tbody>\n",
       "</table>\n",
       "</div>"
      ],
      "text/plain": [
       "   alcohol  malic_acid   ash  alcalinity_of_ash  magnesium  total_phenols  \\\n",
       "0    14.23        1.71  2.43               15.6      127.0           2.80   \n",
       "1    13.20        1.78  2.14               11.2      100.0           2.65   \n",
       "2    13.16        2.36  2.67               18.6      101.0           2.80   \n",
       "3    14.37        1.95  2.50               16.8      113.0           3.85   \n",
       "4    13.24        2.59  2.87               21.0      118.0           2.80   \n",
       "\n",
       "   flavanoids  nonflavanoid_phenols  proanthocyanins  color_intensity   hue  \\\n",
       "0        3.06                  0.28             2.29             5.64  1.04   \n",
       "1        2.76                  0.26             1.28             4.38  1.05   \n",
       "2        3.24                  0.30             2.81             5.68  1.03   \n",
       "3        3.49                  0.24             2.18             7.80  0.86   \n",
       "4        2.69                  0.39             1.82             4.32  1.04   \n",
       "\n",
       "   od280/od315_of_diluted_wines  proline  target  \n",
       "0                          3.92   1065.0       0  \n",
       "1                          3.40   1050.0       0  \n",
       "2                          3.17   1185.0       0  \n",
       "3                          3.45   1480.0       0  \n",
       "4                          2.93    735.0       0  "
      ]
     },
     "execution_count": 2,
     "metadata": {},
     "output_type": "execute_result"
    }
   ],
   "source": [
    "wine_data = load_wine()\n",
    "df = pd.DataFrame(wine_data['data'], columns=wine_data['feature_names'])\n",
    "df['target'] = wine_data['target']\n",
    "df.head()"
   ]
  },
  {
   "cell_type": "code",
   "execution_count": 3,
   "id": "b9dc5c2f",
   "metadata": {},
   "outputs": [
    {
     "data": {
      "text/plain": [
       "1    71\n",
       "0    59\n",
       "2    48\n",
       "Name: target, dtype: int64"
      ]
     },
     "execution_count": 3,
     "metadata": {},
     "output_type": "execute_result"
    }
   ],
   "source": [
    "df['target'].value_counts()"
   ]
  },
  {
   "cell_type": "markdown",
   "id": "dba5651a",
   "metadata": {},
   "source": [
    "Как мы видим кластеры равномерные, нет такого чтобы один преобладал сильно в количестве - это хорошо: классификатор не будет игнорировать какой-либо из кластеров.<br>\n",
    "Инициализируем параметры модели:<br>\n",
    "1. <b>n_estimators</b> - количество деревьев в лесу\n",
    "2. <b>criterion</b> - критерий чистоты группы после разделении (Gini или Entropy)\n",
    "3. <b>oob_score</b>- проверка каждого дерева как на тестовой выборке только на out-of-bag sample (остатки после выброса случайной выборки, на котором обучено дерево)\n",
    "4. <b>class_weight</b> - веса для классов, если кластеры нерепрезентативны (например наблюдений кластера 1 в 100 раз больше других, поэтому классификатор будет всех относить к кластеру 1, что неверно)\n",
    "5. <b>min_samples_split</b> - деревья можно переучить, поэтому их нужно ограничить в длине за счет установки минимального количество элементов в ноде. По дефолту деревья ветвятся до нод мощностью 1"
   ]
  },
  {
   "cell_type": "code",
   "execution_count": 4,
   "id": "af949612",
   "metadata": {},
   "outputs": [],
   "source": [
    "from sklearn.ensemble import RandomForestClassifier\n",
    "\n",
    "def init_forest(n_estimators):\n",
    "\n",
    "    model = RandomForestClassifier(\n",
    "        n_estimators=n_estimators, # количество деревьев\n",
    "        random_state=42,\n",
    "        criterion=\"gini\", # критерий чистоты группы по Джини,\n",
    "        oob_score=True, # проверка каждого дерева на out of bag sample - выборка полученная путем \n",
    "                        # отброса случайной выборки из датасета\n",
    "        warm_start=False,\n",
    "        class_weight=None # веса для классов, если кластеры несбалансированы\n",
    "    )\n",
    "\n",
    "    return model\n",
    "\n",
    "model = init_forest(n_estimators=20)"
   ]
  },
  {
   "cell_type": "code",
   "execution_count": 5,
   "id": "4ed2cd6b",
   "metadata": {},
   "outputs": [
    {
     "data": {
      "text/plain": [
       "(178, 14)"
      ]
     },
     "execution_count": 5,
     "metadata": {},
     "output_type": "execute_result"
    }
   ],
   "source": [
    "df.shape"
   ]
  },
  {
   "cell_type": "markdown",
   "id": "75c4fc98",
   "metadata": {},
   "source": [
    "На самом деле, у нас не такая уж и большая выборка, чтоб разбивать ее на обучающую, тестовую и валидационную выборку."
   ]
  },
  {
   "cell_type": "code",
   "execution_count": 6,
   "id": "7b561c05",
   "metadata": {},
   "outputs": [
    {
     "data": {
      "text/plain": [
       "RandomForestClassifier(n_estimators=20, oob_score=True, random_state=42)"
      ]
     },
     "execution_count": 6,
     "metadata": {},
     "output_type": "execute_result"
    }
   ],
   "source": [
    "from sklearn.model_selection import train_test_split\n",
    "\n",
    "x_values = df.iloc[:,:-1].values\n",
    "y_values = df.iloc[:,-1].values\n",
    "\n",
    "x_train, x_test, y_train, y_test = train_test_split(\n",
    "    x_values, y_values, test_size=0.2, random_state=42\n",
    ")\n",
    "\n",
    "model.fit(x_train, y_train)"
   ]
  },
  {
   "cell_type": "markdown",
   "id": "9d8e53d3",
   "metadata": {},
   "source": [
    "Проверим, что обучающая и тестовая выборка репрезентативна"
   ]
  },
  {
   "cell_type": "code",
   "execution_count": 7,
   "id": "d48c1096",
   "metadata": {},
   "outputs": [
    {
     "name": "stdout",
     "output_type": "stream",
     "text": [
      "Количества элементов кластеров в тестовой выборке: [45 57 40]\n",
      "Количества элементов кластеров в тестовой выборке: [14 14  8]\n"
     ]
    }
   ],
   "source": [
    "print(\"Количества элементов кластеров в тестовой выборке: {}\".format(np.unique(y_train, return_counts=True)[1]))\n",
    "print(\"Количества элементов кластеров в тестовой выборке: {}\".format(np.unique(y_test, return_counts=True)[1]))"
   ]
  },
  {
   "cell_type": "code",
   "execution_count": 8,
   "id": "60b2eeda",
   "metadata": {},
   "outputs": [
    {
     "data": {
      "text/plain": [
       "array([0, 0, 2, 0, 1, 0, 1, 2, 1, 2, 0, 2, 0, 1, 0, 1, 1, 1, 0, 1, 0, 1,\n",
       "       1, 2, 2, 2, 1, 1, 1, 0, 0, 1, 2, 0, 0, 0])"
      ]
     },
     "execution_count": 8,
     "metadata": {},
     "output_type": "execute_result"
    }
   ],
   "source": [
    "y_pred = model.predict(x_test)\n",
    "y_pred"
   ]
  },
  {
   "cell_type": "code",
   "execution_count": 9,
   "id": "ee502506",
   "metadata": {},
   "outputs": [
    {
     "name": "stdout",
     "output_type": "stream",
     "text": [
      "accuracy score: 1.0\n"
     ]
    }
   ],
   "source": [
    "from sklearn.metrics import accuracy_score, confusion_matrix\n",
    "\n",
    "accuracy = accuracy_score(y_true=y_test, y_pred=y_pred)\n",
    "print(f'accuracy score: {accuracy}')"
   ]
  },
  {
   "cell_type": "markdown",
   "id": "da0bb2c1",
   "metadata": {},
   "source": [
    "Построим confusion matrix и посмотрим, где ошибается наша модель"
   ]
  },
  {
   "cell_type": "code",
   "execution_count": 10,
   "id": "6cfcdb9a",
   "metadata": {
    "scrolled": true
   },
   "outputs": [
    {
     "data": {
      "image/png": "[encoded data removed]",
      "text/plain": [
       "<Figure size 576x396 with 2 Axes>"
      ]
     },
     "metadata": {},
     "output_type": "display_data"
    }
   ],
   "source": [
    "matrix = confusion_matrix(y_true=y_test, y_pred=y_pred)\n",
    "\n",
    "confused_df = pd.DataFrame(matrix, range(3), range(3))\n",
    "\n",
    "def plot_confusion_matrix(confused_df):\n",
    "    sn.heatmap(confused_df, annot=True, annot_kws={\"size\": 16}, cmap=\"crest\")\n",
    "    plt.xlabel('cluster predicted')\n",
    "    plt.ylabel('real cluster')\n",
    "    plt.show()\n",
    "\n",
    "plot_confusion_matrix(confused_df)"
   ]
  },
  {
   "cell_type": "markdown",
   "id": "a3b3f5fa",
   "metadata": {},
   "source": [
    "Отлично, в первый же раз мы получили accuracy 1. Но возможно на других подвыборках модель будет вести себя намного хуже проверим это."
   ]
  },
  {
   "cell_type": "code",
   "execution_count": 11,
   "id": "14b45c51",
   "metadata": {},
   "outputs": [
    {
     "data": {
      "text/plain": [
       "0.9609523809523809"
      ]
     },
     "execution_count": 11,
     "metadata": {},
     "output_type": "execute_result"
    }
   ],
   "source": [
    "from sklearn.model_selection import cross_val_score\n",
    "\n",
    "np.average(cross_val_score(model, x_values, y_values, cv=5)) # разделим данные на \n",
    "                                                             # 5 подвыборок и будем убирать по одной в тест"
   ]
  },
  {
   "cell_type": "markdown",
   "id": "87dbde36",
   "metadata": {},
   "source": [
    "Хороший результат. Построим график зависимости accuracy от количества деревьев. Так как качество деревьев сильно зависит от рандомного выбора наблюдений из выборки, сделаем n-шаговую кроссвалидацию и возьмем среднее accuracy для оценки точности модели"
   ]
  },
  {
   "cell_type": "code",
   "execution_count": 12,
   "id": "54a01e30",
   "metadata": {},
   "outputs": [],
   "source": [
    "accuracy_list = []\n",
    "\n",
    "for i in range(10,50):\n",
    "    model = init_forest(i)\n",
    "    accuracy_list.append(np.average(cross_val_score(model, x_values, y_values, cv=5)))"
   ]
  },
  {
   "cell_type": "code",
   "execution_count": 13,
   "id": "ffb785d1",
   "metadata": {
    "scrolled": false
   },
   "outputs": [
    {
     "data": {
      "text/plain": [
       "Text(0.5, 0, 'количество деревьев')"
      ]
     },
     "execution_count": 13,
     "metadata": {},
     "output_type": "execute_result"
    },
    {
     "data": {
      "image/png": "[encoded data removed]",
      "text/plain": [
       "<Figure size 576x396 with 1 Axes>"
      ]
     },
     "metadata": {},
     "output_type": "display_data"
    }
   ],
   "source": [
    "plt.plot(range(10,50), accuracy_list)\n",
    "plt.title('Зависимость accuracy от количества деревьев')\n",
    "plt.ylabel('accuracy')\n",
    "plt.xlabel('количество деревьев')"
   ]
  },
  {
   "cell_type": "markdown",
   "id": "83637725",
   "metadata": {},
   "source": [
    "Как мы видим, выборка у нас конечно сбалансирована, но сбалансируем ее до конца"
   ]
  },
  {
   "cell_type": "code",
   "execution_count": 14,
   "id": "2cd74243",
   "metadata": {},
   "outputs": [
    {
     "data": {
      "text/plain": [
       "1    71\n",
       "0    59\n",
       "2    48\n",
       "Name: target, dtype: int64"
      ]
     },
     "execution_count": 14,
     "metadata": {},
     "output_type": "execute_result"
    }
   ],
   "source": [
    "df['target'].value_counts()"
   ]
  },
  {
   "cell_type": "markdown",
   "id": "6dad916d",
   "metadata": {},
   "source": [
    " <h3>Undersampling</h3><br>\n",
    "Выбросим часть наблюдений из 1 и 0 кластера, чтобв везде было по 48 элементов"
   ]
  },
  {
   "cell_type": "code",
   "execution_count": 15,
   "id": "04d5dda2",
   "metadata": {},
   "outputs": [
    {
     "name": "stdout",
     "output_type": "stream",
     "text": [
      "Размерность данных с нулевым кластером: (48, 14)\n",
      "Размерность данных с первым кластером: (48, 14)\n"
     ]
    },
    {
     "data": {
      "text/plain": [
       "0    48\n",
       "1    48\n",
       "2    48\n",
       "Name: target, dtype: int64"
      ]
     },
     "execution_count": 15,
     "metadata": {},
     "output_type": "execute_result"
    }
   ],
   "source": [
    "second_cluster_data = df[df['target']==2]\n",
    "zero_cluster_data = df[df['target']==0].sample(48) # Рандомно насэмплить 48 наблюдений из кластера \n",
    "                                                                  # где таргет переменная 0\n",
    "first_cluster_data = df[df['target']==1].sample(48) # Аналогично для кластера с таргетом 1\n",
    "\n",
    "print(\"Размерность данных с нулевым кластером: {}\".format(zero_cluster_data.shape))\n",
    "print(\"Размерность данных с первым кластером: {}\".format(first_cluster_data.shape))\n",
    "\n",
    "df_under = pd.concat([zero_cluster_data, first_cluster_data, second_cluster_data], axis=0)\n",
    "df_under['target'].value_counts()"
   ]
  },
  {
   "cell_type": "markdown",
   "id": "4f4d7254",
   "metadata": {},
   "source": [
    "Теперь сделаем сплит по данным и укажем, что мы хотим равное количество кластеров в трэйн и тест выборках<br>\n",
    "<b>stratify</b> позволит разделить выборку равномерно по кластерам в трэйне и в тесте"
   ]
  },
  {
   "cell_type": "code",
   "execution_count": 16,
   "id": "dc1b5150",
   "metadata": {},
   "outputs": [],
   "source": [
    "x_values = df_under.iloc[:,:-1].values\n",
    "y_values = df_under.iloc[:,-1].values\n",
    "\n",
    "x_train, x_test, y_train, y_test = train_test_split(\n",
    "    x_values, y_values, test_size=0.2, random_state=42, stratify=df_under['target']\n",
    ")"
   ]
  },
  {
   "cell_type": "code",
   "execution_count": 17,
   "id": "3552856e",
   "metadata": {},
   "outputs": [
    {
     "name": "stdout",
     "output_type": "stream",
     "text": [
      "(array([0, 1, 2]), array([39, 38, 38]))\n"
     ]
    },
    {
     "data": {
      "text/plain": [
       "(array([0, 1, 2]), array([ 9, 10, 10]))"
      ]
     },
     "execution_count": 17,
     "metadata": {},
     "output_type": "execute_result"
    }
   ],
   "source": [
    "# Как мы видим в обоих случаях выборки сбалансированные\n",
    "print(np.unique(y_train, return_counts=True))\n",
    "np.unique(y_test, return_counts=True)"
   ]
  },
  {
   "cell_type": "code",
   "execution_count": 18,
   "id": "5aa577df",
   "metadata": {},
   "outputs": [
    {
     "data": {
      "text/plain": [
       "RandomForestClassifier(n_estimators=20, oob_score=True, random_state=42)"
      ]
     },
     "execution_count": 18,
     "metadata": {},
     "output_type": "execute_result"
    }
   ],
   "source": [
    "# Снова инициализируем модель так же с 20 деревьями\n",
    "model = init_forest(n_estimators=20)\n",
    "\n",
    "model.fit(x_train, y_train)"
   ]
  },
  {
   "cell_type": "code",
   "execution_count": 19,
   "id": "9c5e9003",
   "metadata": {},
   "outputs": [
    {
     "data": {
      "text/plain": [
       "array([1, 1, 2, 0, 2, 1, 2, 2, 1, 0, 0, 0, 1, 1, 0, 2, 0, 1, 0, 1, 2, 0,\n",
       "       0, 1, 2, 2, 2, 2, 1])"
      ]
     },
     "execution_count": 19,
     "metadata": {},
     "output_type": "execute_result"
    }
   ],
   "source": [
    "y_pred = model.predict(x_test)\n",
    "y_pred"
   ]
  },
  {
   "cell_type": "markdown",
   "id": "96d34898",
   "metadata": {},
   "source": [
    "Посмотрим на accuracy после изменения сэмплирования выборки"
   ]
  },
  {
   "cell_type": "code",
   "execution_count": 20,
   "id": "3a82d520",
   "metadata": {},
   "outputs": [
    {
     "name": "stdout",
     "output_type": "stream",
     "text": [
      "accuracy score: 1.0\n"
     ]
    },
    {
     "data": {
      "image/png": "[encoded data removed]",
      "text/plain": [
       "<Figure size 576x396 with 2 Axes>"
      ]
     },
     "metadata": {},
     "output_type": "display_data"
    }
   ],
   "source": [
    "accuracy = accuracy_score(y_true=y_test, y_pred=y_pred)\n",
    "print(f'accuracy score: {accuracy}')\n",
    "\n",
    "from sklearn.metrics import confusion_matrix\n",
    "\n",
    "confused_df = pd.DataFrame(confusion_matrix(y_true=y_test, y_pred=y_pred))\n",
    "\n",
    "plot_confusion_matrix(confused_df)"
   ]
  },
  {
   "cell_type": "markdown",
   "id": "dd9a828f",
   "metadata": {},
   "source": [
    "Оно и видно, accuracy ухуджается за счет уменьшения наблюдений в train выборке. Проверим, что это точно так с помощью cross_val_score"
   ]
  },
  {
   "cell_type": "code",
   "execution_count": 21,
   "id": "9871778b",
   "metadata": {},
   "outputs": [
    {
     "data": {
      "text/plain": [
       "0.9862068965517242"
      ]
     },
     "execution_count": 21,
     "metadata": {},
     "output_type": "execute_result"
    }
   ],
   "source": [
    "np.average(cross_val_score(model, x_values, y_values, cv=5))"
   ]
  },
  {
   "cell_type": "markdown",
   "id": "a0fa54ab",
   "metadata": {},
   "source": [
    "В итоге получили, что <b>undersampling в среднем улучшает результаты классфикации</b>. Видимо, даже небольшая несбалансированность выборки повлияла на 0.02 в окончательном accuracy"
   ]
  },
  {
   "cell_type": "markdown",
   "id": "d86ac2d5",
   "metadata": {},
   "source": [
    "<h3>Oversampling (клонирование данных)</h3><br>\n",
    "Попробуем клонировать данные в кластерах до количества соответствующего максимально заселенному классу. То есть добавим в 0 и 2 кластер клонированных наблюдений, чтоб везде было по 71 "
   ]
  },
  {
   "cell_type": "code",
   "execution_count": 22,
   "id": "bf4b1a1b",
   "metadata": {},
   "outputs": [
    {
     "data": {
      "text/plain": [
       "1    71\n",
       "0    59\n",
       "2    48\n",
       "Name: target, dtype: int64"
      ]
     },
     "execution_count": 22,
     "metadata": {},
     "output_type": "execute_result"
    }
   ],
   "source": [
    "df['target'].value_counts()"
   ]
  },
  {
   "cell_type": "code",
   "execution_count": 23,
   "id": "93d37dae",
   "metadata": {},
   "outputs": [],
   "source": [
    "first_cluster_data = df[df['target']==1]\n",
    "# Рандомно насэмплить 71 наблюдений из кластера где таргет переменная 0 (только, чтобы обеспечить максимальное количество уникальных\n",
    "# значений я добавлю к существующему сету клонированные наблюдения)\n",
    "zero_cluster_data = pd.concat([df[df['target']==0], df[df['target']==0].sample(12)])\n",
    "# Аналогично для кластера с таргетом 1\n",
    "second_cluster_data = pd.concat([df[df['target']==2], df[df['target']==2].sample(23)])"
   ]
  },
  {
   "cell_type": "code",
   "execution_count": 24,
   "id": "5a6a4d34",
   "metadata": {},
   "outputs": [
    {
     "data": {
      "text/plain": [
       "0    71\n",
       "1    71\n",
       "2    71\n",
       "Name: target, dtype: int64"
      ]
     },
     "execution_count": 24,
     "metadata": {},
     "output_type": "execute_result"
    }
   ],
   "source": [
    "df_over = pd.concat([zero_cluster_data, first_cluster_data, second_cluster_data], axis=0)\n",
    "df_over['target'].value_counts()"
   ]
  },
  {
   "cell_type": "code",
   "execution_count": 25,
   "id": "76954488",
   "metadata": {},
   "outputs": [],
   "source": [
    "x_values = df_over.iloc[:,:-1].values\n",
    "y_values = df_over.iloc[:,-1].values\n",
    "\n",
    "x_train, x_test, y_train, y_test = train_test_split(\n",
    "    x_values, y_values, test_size=0.2, random_state=42, stratify=df_over['target']\n",
    ")"
   ]
  },
  {
   "cell_type": "code",
   "execution_count": 26,
   "id": "42486df8",
   "metadata": {},
   "outputs": [
    {
     "data": {
      "text/plain": [
       "RandomForestClassifier(n_estimators=20, oob_score=True, random_state=42)"
      ]
     },
     "execution_count": 26,
     "metadata": {},
     "output_type": "execute_result"
    }
   ],
   "source": [
    "# Снова инициализируем модель так же с 20 деревьями\n",
    "model = init_forest(n_estimators=20)\n",
    "\n",
    "model.fit(x_train, y_train)"
   ]
  },
  {
   "cell_type": "code",
   "execution_count": 27,
   "id": "461f1daa",
   "metadata": {},
   "outputs": [
    {
     "data": {
      "text/plain": [
       "array([0, 2, 2, 0, 1, 0, 2, 2, 0, 2, 2, 2, 0, 2, 0, 2, 0, 1, 1, 0, 0, 0,\n",
       "       1, 1, 2, 1, 1, 1, 2, 1, 1, 2, 2, 0, 1, 2, 2, 2, 0, 0, 2, 0, 0])"
      ]
     },
     "execution_count": 27,
     "metadata": {},
     "output_type": "execute_result"
    }
   ],
   "source": [
    "y_pred = model.predict(x_test)\n",
    "y_pred"
   ]
  },
  {
   "cell_type": "code",
   "execution_count": 28,
   "id": "611006c3",
   "metadata": {},
   "outputs": [
    {
     "name": "stdout",
     "output_type": "stream",
     "text": [
      "accuracy score: 0.9302325581395349\n"
     ]
    },
    {
     "data": {
      "image/png": "[encoded data removed]",
      "text/plain": [
       "<Figure size 576x396 with 2 Axes>"
      ]
     },
     "metadata": {},
     "output_type": "display_data"
    }
   ],
   "source": [
    "accuracy = accuracy_score(y_true=y_test, y_pred=y_pred)\n",
    "print(f'accuracy score: {accuracy}')\n",
    "\n",
    "confused_df = pd.DataFrame(confusion_matrix(y_true=y_test, y_pred=y_pred))\n",
    "\n",
    "plot_confusion_matrix(confused_df)"
   ]
  },
  {
   "cell_type": "markdown",
   "id": "10e5b22a",
   "metadata": {},
   "source": [
    "При таких же остальных гиперпараметрах модель стала лучше относительно undersampling. Проверим снова с помощью cross_val_score"
   ]
  },
  {
   "cell_type": "code",
   "execution_count": 29,
   "id": "a4776ec1",
   "metadata": {},
   "outputs": [
    {
     "data": {
      "text/plain": [
       "0.9719822812846068"
      ]
     },
     "execution_count": 29,
     "metadata": {},
     "output_type": "execute_result"
    }
   ],
   "source": [
    "np.average(cross_val_score(model, x_values, y_values, cv=5))"
   ]
  },
  {
   "cell_type": "markdown",
   "id": "260239fd",
   "metadata": {},
   "source": [
    "Результат получился такой же, видимо разницы особой нет, так как количество наблюдений невелико и кластеры относительно сбалансированы. Но мы точно улучшили изначальный результат, который был совсем без балансировки выборки"
   ]
  },
  {
   "cell_type": "markdown",
   "id": "64a94a03",
   "metadata": {},
   "source": [
    "<h3>Oversampling using KNN - SMOTE</h3><br>\n",
    "Расширение малых классов с помощью алгоритма KNN (улучшение простого клонирования)"
   ]
  },
  {
   "cell_type": "code",
   "execution_count": 30,
   "id": "14735797",
   "metadata": {},
   "outputs": [],
   "source": [
    "from imblearn.over_sampling import SMOTE\n",
    "\n",
    "x_values = df.iloc[:, :-1]\n",
    "y_values = df.iloc[:, -1]\n",
    "\n",
    "smote = SMOTE() # Добавлять синтетические наблюдения к меньшим классам\n",
    "x_values, y_values = smote.fit_resample(x_values, y_values)"
   ]
  },
  {
   "cell_type": "code",
   "execution_count": 31,
   "id": "3da235dc",
   "metadata": {},
   "outputs": [
    {
     "data": {
      "text/plain": [
       "(array([0, 1, 2]), array([71, 71, 71]))"
      ]
     },
     "execution_count": 31,
     "metadata": {},
     "output_type": "execute_result"
    }
   ],
   "source": [
    "np.unique(y_values, return_counts=True)"
   ]
  },
  {
   "cell_type": "code",
   "execution_count": 32,
   "id": "1c6bc170",
   "metadata": {},
   "outputs": [
    {
     "data": {
      "text/plain": [
       "RandomForestClassifier(n_estimators=20, oob_score=True, random_state=42)"
      ]
     },
     "execution_count": 32,
     "metadata": {},
     "output_type": "execute_result"
    }
   ],
   "source": [
    "# Снова инициализируем модель так же с 20 деревьями\n",
    "model = init_forest(n_estimators=20)\n",
    "\n",
    "model.fit(x_train, y_train)"
   ]
  },
  {
   "cell_type": "code",
   "execution_count": 33,
   "id": "05047fd9",
   "metadata": {},
   "outputs": [
    {
     "data": {
      "text/plain": [
       "array([0, 2, 2, 0, 1, 0, 2, 2, 0, 2, 2, 2, 0, 2, 0, 2, 0, 1, 1, 0, 0, 0,\n",
       "       1, 1, 2, 1, 1, 1, 2, 1, 1, 2, 2, 0, 1, 2, 2, 2, 0, 0, 2, 0, 0])"
      ]
     },
     "execution_count": 33,
     "metadata": {},
     "output_type": "execute_result"
    }
   ],
   "source": [
    "y_pred = model.predict(x_test)\n",
    "y_pred"
   ]
  },
  {
   "cell_type": "code",
   "execution_count": 34,
   "id": "a6877bf1",
   "metadata": {},
   "outputs": [
    {
     "name": "stdout",
     "output_type": "stream",
     "text": [
      "accuracy score: 0.9302325581395349\n"
     ]
    },
    {
     "data": {
      "image/png": "[encoded data removed]",
      "text/plain": [
       "<Figure size 576x396 with 2 Axes>"
      ]
     },
     "metadata": {},
     "output_type": "display_data"
    }
   ],
   "source": [
    "accuracy = accuracy_score(y_true=y_test, y_pred=y_pred)\n",
    "print(f'accuracy score: {accuracy}')\n",
    "\n",
    "from sklearn.metrics import confusion_matrix\n",
    "\n",
    "confused_df = pd.DataFrame(confusion_matrix(y_true=y_test, y_pred=y_pred))\n",
    "\n",
    "plot_confusion_matrix(confused_df)"
   ]
  },
  {
   "cell_type": "code",
   "execution_count": 35,
   "id": "871c4b9c",
   "metadata": {},
   "outputs": [
    {
     "data": {
      "text/plain": [
       "0.9813953488372092"
      ]
     },
     "execution_count": 35,
     "metadata": {},
     "output_type": "execute_result"
    }
   ],
   "source": [
    "np.average(cross_val_score(model, x_values, y_values, cv=5))"
   ]
  }
 ],
 "metadata": {
  "kernelspec": {
   "display_name": "Python 3 (ipykernel)",
   "language": "python",
   "name": "python3"
  },
  "language_info": {
   "codemirror_mode": {
    "name": "ipython",
    "version": 3
   },
   "file_extension": ".py",
   "mimetype": "text/x-python",
   "name": "python",
   "nbconvert_exporter": "python",
   "pygments_lexer": "ipython3",
   "version": "3.9.7"
  }
 },
 "nbformat": 4,
 "nbformat_minor": 5
}
